{
  "nbformat": 4,
  "nbformat_minor": 0,
  "metadata": {
    "colab": {
      "name": "paramt1_binder.ipynb",
      "provenance": [],
      "collapsed_sections": [],
      "authorship_tag": "ABX9TyP8/oJ72CnOqzWMAWmckUmc"
    },
    "kernelspec": {
      "name": "python3",
      "display_name": "Python 3"
    },
    "language_info": {
      "name": "python"
    },
    "widgets": {
      "application/vnd.jupyter.widget-state+json": {
        "406179d2701144a1bcc730f200d633a2": {
          "model_module": "@jupyter-widgets/controls",
          "model_name": "VBoxModel",
          "model_module_version": "1.5.0",
          "state": {
            "_view_name": "VBoxView",
            "_dom_classes": [
              "widget-interact"
            ],
            "_model_name": "VBoxModel",
            "_view_module": "@jupyter-widgets/controls",
            "_model_module_version": "1.5.0",
            "_view_count": null,
            "_view_module_version": "1.5.0",
            "box_style": "",
            "layout": "IPY_MODEL_a37266524fb044568899ea7758cc1f15",
            "_model_module": "@jupyter-widgets/controls",
            "children": [
              "IPY_MODEL_546e09143b814409a104c5a5960cd5ef",
              "IPY_MODEL_89c924c696f9414b983f45669e8edebf",
              "IPY_MODEL_1e12453faa55408ab5d7dee83625b978",
              "IPY_MODEL_32a90bbc259245649c5ef0095e7ee47d"
            ]
          }
        },
        "a37266524fb044568899ea7758cc1f15": {
          "model_module": "@jupyter-widgets/base",
          "model_name": "LayoutModel",
          "model_module_version": "1.2.0",
          "state": {
            "_view_name": "LayoutView",
            "grid_template_rows": null,
            "right": null,
            "justify_content": null,
            "_view_module": "@jupyter-widgets/base",
            "overflow": null,
            "_model_module_version": "1.2.0",
            "_view_count": null,
            "flex_flow": null,
            "width": null,
            "min_width": null,
            "border": null,
            "align_items": null,
            "bottom": null,
            "_model_module": "@jupyter-widgets/base",
            "top": null,
            "grid_column": null,
            "overflow_y": null,
            "overflow_x": null,
            "grid_auto_flow": null,
            "grid_area": null,
            "grid_template_columns": null,
            "flex": null,
            "_model_name": "LayoutModel",
            "justify_items": null,
            "grid_row": null,
            "max_height": null,
            "align_content": null,
            "visibility": null,
            "align_self": null,
            "height": null,
            "min_height": null,
            "padding": null,
            "grid_auto_rows": null,
            "grid_gap": null,
            "max_width": null,
            "order": null,
            "_view_module_version": "1.2.0",
            "grid_template_areas": null,
            "object_position": null,
            "object_fit": null,
            "grid_auto_columns": null,
            "margin": null,
            "display": null,
            "left": null
          }
        },
        "546e09143b814409a104c5a5960cd5ef": {
          "model_module": "@jupyter-widgets/controls",
          "model_name": "FloatSliderModel",
          "model_module_version": "1.5.0",
          "state": {
            "_view_name": "FloatSliderView",
            "style": "IPY_MODEL_78b7aa6d637a4e738878262f3a23d693",
            "_dom_classes": [],
            "description": "Entr. Target",
            "step": 0.1,
            "_model_name": "FloatSliderModel",
            "orientation": "horizontal",
            "max": 1,
            "_view_module": "@jupyter-widgets/controls",
            "_model_module_version": "1.5.0",
            "value": 0.5,
            "_view_count": null,
            "disabled": false,
            "_view_module_version": "1.5.0",
            "min": 0,
            "continuous_update": true,
            "readout_format": ".2f",
            "description_tooltip": null,
            "readout": true,
            "_model_module": "@jupyter-widgets/controls",
            "layout": "IPY_MODEL_3d44c19fd5b748fd9ad081c5f39369cd"
          }
        },
        "89c924c696f9414b983f45669e8edebf": {
          "model_module": "@jupyter-widgets/controls",
          "model_name": "IntSliderModel",
          "model_module_version": "1.5.0",
          "state": {
            "_view_name": "IntSliderView",
            "style": "IPY_MODEL_d48497bdf477497785ff317b33232087",
            "_dom_classes": [],
            "description": "Latency",
            "step": 1,
            "_model_name": "IntSliderModel",
            "orientation": "horizontal",
            "max": 1024,
            "_view_module": "@jupyter-widgets/controls",
            "_model_module_version": "1.5.0",
            "value": 512,
            "_view_count": null,
            "disabled": false,
            "_view_module_version": "1.5.0",
            "min": 0,
            "continuous_update": true,
            "readout_format": "d",
            "description_tooltip": null,
            "readout": true,
            "_model_module": "@jupyter-widgets/controls",
            "layout": "IPY_MODEL_6d267d0f426044cb8dd2bedcd08f1e48"
          }
        },
        "1e12453faa55408ab5d7dee83625b978": {
          "model_module": "@jupyter-widgets/controls",
          "model_name": "IntRangeSliderModel",
          "model_module_version": "1.5.0",
          "state": {
            "_view_name": "IntRangeSliderView",
            "style": "IPY_MODEL_7bcbc973a274430da26eb948463595ec",
            "_dom_classes": [],
            "description": "Thresh.",
            "step": 1,
            "_model_name": "IntRangeSliderModel",
            "orientation": "horizontal",
            "max": 1024,
            "_view_module": "@jupyter-widgets/controls",
            "_model_module_version": "1.5.0",
            "value": [
              206,
              306
            ],
            "_view_count": null,
            "disabled": false,
            "_view_module_version": "1.5.0",
            "min": 0,
            "continuous_update": true,
            "readout_format": "d",
            "description_tooltip": null,
            "readout": true,
            "_model_module": "@jupyter-widgets/controls",
            "layout": "IPY_MODEL_aae54ee2070f4b38aa4a61deba33f472"
          }
        },
        "32a90bbc259245649c5ef0095e7ee47d": {
          "model_module": "@jupyter-widgets/output",
          "model_name": "OutputModel",
          "model_module_version": "1.0.0",
          "state": {
            "_view_name": "OutputView",
            "msg_id": "",
            "_dom_classes": [],
            "_model_name": "OutputModel",
            "outputs": [
              {
                "output_type": "display_data",
                "data": {
                  "image/png": "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\n",
                  "text/plain": "<Figure size 720x360 with 1 Axes>"
                },
                "metadata": {
                  "needs_background": "light"
                }
              }
            ],
            "_view_module": "@jupyter-widgets/output",
            "_model_module_version": "1.0.0",
            "_view_count": null,
            "_view_module_version": "1.0.0",
            "layout": "IPY_MODEL_bebc100f005443999fb4c46b43bfca71",
            "_model_module": "@jupyter-widgets/output"
          }
        },
        "78b7aa6d637a4e738878262f3a23d693": {
          "model_module": "@jupyter-widgets/controls",
          "model_name": "SliderStyleModel",
          "model_module_version": "1.5.0",
          "state": {
            "_view_name": "StyleView",
            "handle_color": null,
            "_model_name": "SliderStyleModel",
            "description_width": "",
            "_view_module": "@jupyter-widgets/base",
            "_model_module_version": "1.5.0",
            "_view_count": null,
            "_view_module_version": "1.2.0",
            "_model_module": "@jupyter-widgets/controls"
          }
        },
        "3d44c19fd5b748fd9ad081c5f39369cd": {
          "model_module": "@jupyter-widgets/base",
          "model_name": "LayoutModel",
          "model_module_version": "1.2.0",
          "state": {
            "_view_name": "LayoutView",
            "grid_template_rows": null,
            "right": null,
            "justify_content": null,
            "_view_module": "@jupyter-widgets/base",
            "overflow": null,
            "_model_module_version": "1.2.0",
            "_view_count": null,
            "flex_flow": null,
            "width": "650px",
            "min_width": null,
            "border": null,
            "align_items": null,
            "bottom": null,
            "_model_module": "@jupyter-widgets/base",
            "top": null,
            "grid_column": null,
            "overflow_y": null,
            "overflow_x": null,
            "grid_auto_flow": null,
            "grid_area": null,
            "grid_template_columns": null,
            "flex": null,
            "_model_name": "LayoutModel",
            "justify_items": null,
            "grid_row": null,
            "max_height": null,
            "align_content": null,
            "visibility": null,
            "align_self": null,
            "height": null,
            "min_height": null,
            "padding": null,
            "grid_auto_rows": null,
            "grid_gap": null,
            "max_width": null,
            "order": null,
            "_view_module_version": "1.2.0",
            "grid_template_areas": null,
            "object_position": null,
            "object_fit": null,
            "grid_auto_columns": null,
            "margin": null,
            "display": null,
            "left": null
          }
        },
        "d48497bdf477497785ff317b33232087": {
          "model_module": "@jupyter-widgets/controls",
          "model_name": "SliderStyleModel",
          "model_module_version": "1.5.0",
          "state": {
            "_view_name": "StyleView",
            "handle_color": null,
            "_model_name": "SliderStyleModel",
            "description_width": "",
            "_view_module": "@jupyter-widgets/base",
            "_model_module_version": "1.5.0",
            "_view_count": null,
            "_view_module_version": "1.2.0",
            "_model_module": "@jupyter-widgets/controls"
          }
        },
        "6d267d0f426044cb8dd2bedcd08f1e48": {
          "model_module": "@jupyter-widgets/base",
          "model_name": "LayoutModel",
          "model_module_version": "1.2.0",
          "state": {
            "_view_name": "LayoutView",
            "grid_template_rows": null,
            "right": null,
            "justify_content": null,
            "_view_module": "@jupyter-widgets/base",
            "overflow": null,
            "_model_module_version": "1.2.0",
            "_view_count": null,
            "flex_flow": null,
            "width": "415px",
            "min_width": null,
            "border": null,
            "align_items": null,
            "bottom": null,
            "_model_module": "@jupyter-widgets/base",
            "top": null,
            "grid_column": null,
            "overflow_y": null,
            "overflow_x": null,
            "grid_auto_flow": null,
            "grid_area": null,
            "grid_template_columns": null,
            "flex": null,
            "_model_name": "LayoutModel",
            "justify_items": null,
            "grid_row": null,
            "max_height": null,
            "align_content": null,
            "visibility": null,
            "align_self": null,
            "height": null,
            "min_height": null,
            "padding": null,
            "grid_auto_rows": null,
            "grid_gap": null,
            "max_width": null,
            "order": null,
            "_view_module_version": "1.2.0",
            "grid_template_areas": null,
            "object_position": null,
            "object_fit": null,
            "grid_auto_columns": null,
            "margin": null,
            "display": null,
            "left": null
          }
        },
        "7bcbc973a274430da26eb948463595ec": {
          "model_module": "@jupyter-widgets/controls",
          "model_name": "SliderStyleModel",
          "model_module_version": "1.5.0",
          "state": {
            "_view_name": "StyleView",
            "handle_color": null,
            "_model_name": "SliderStyleModel",
            "description_width": "",
            "_view_module": "@jupyter-widgets/base",
            "_model_module_version": "1.5.0",
            "_view_count": null,
            "_view_module_version": "1.2.0",
            "_model_module": "@jupyter-widgets/controls"
          }
        },
        "aae54ee2070f4b38aa4a61deba33f472": {
          "model_module": "@jupyter-widgets/base",
          "model_name": "LayoutModel",
          "model_module_version": "1.2.0",
          "state": {
            "_view_name": "LayoutView",
            "grid_template_rows": null,
            "right": null,
            "justify_content": null,
            "_view_module": "@jupyter-widgets/base",
            "overflow": null,
            "_model_module_version": "1.2.0",
            "_view_count": null,
            "flex_flow": null,
            "width": "650px",
            "min_width": null,
            "border": null,
            "align_items": null,
            "bottom": null,
            "_model_module": "@jupyter-widgets/base",
            "top": null,
            "grid_column": null,
            "overflow_y": null,
            "overflow_x": null,
            "grid_auto_flow": null,
            "grid_area": null,
            "grid_template_columns": null,
            "flex": null,
            "_model_name": "LayoutModel",
            "justify_items": null,
            "grid_row": null,
            "max_height": null,
            "align_content": null,
            "visibility": null,
            "align_self": null,
            "height": null,
            "min_height": null,
            "padding": null,
            "grid_auto_rows": null,
            "grid_gap": null,
            "max_width": null,
            "order": null,
            "_view_module_version": "1.2.0",
            "grid_template_areas": null,
            "object_position": null,
            "object_fit": null,
            "grid_auto_columns": null,
            "margin": null,
            "display": null,
            "left": null
          }
        },
        "bebc100f005443999fb4c46b43bfca71": {
          "model_module": "@jupyter-widgets/base",
          "model_name": "LayoutModel",
          "model_module_version": "1.2.0",
          "state": {
            "_view_name": "LayoutView",
            "grid_template_rows": null,
            "right": null,
            "justify_content": null,
            "_view_module": "@jupyter-widgets/base",
            "overflow": null,
            "_model_module_version": "1.2.0",
            "_view_count": null,
            "flex_flow": null,
            "width": null,
            "min_width": null,
            "border": null,
            "align_items": null,
            "bottom": null,
            "_model_module": "@jupyter-widgets/base",
            "top": null,
            "grid_column": null,
            "overflow_y": null,
            "overflow_x": null,
            "grid_auto_flow": null,
            "grid_area": null,
            "grid_template_columns": null,
            "flex": null,
            "_model_name": "LayoutModel",
            "justify_items": null,
            "grid_row": null,
            "max_height": null,
            "align_content": null,
            "visibility": null,
            "align_self": null,
            "height": null,
            "min_height": null,
            "padding": null,
            "grid_auto_rows": null,
            "grid_gap": null,
            "max_width": null,
            "order": null,
            "_view_module_version": "1.2.0",
            "grid_template_areas": null,
            "object_position": null,
            "object_fit": null,
            "grid_auto_columns": null,
            "margin": null,
            "display": null,
            "left": null
          }
        },
        "67ad6647bf4d49a998274f69860b2312": {
          "model_module": "@jupyter-widgets/controls",
          "model_name": "VBoxModel",
          "model_module_version": "1.5.0",
          "state": {
            "_view_name": "VBoxView",
            "_dom_classes": [],
            "_model_name": "VBoxModel",
            "_view_module": "@jupyter-widgets/controls",
            "_model_module_version": "1.5.0",
            "_view_count": null,
            "_view_module_version": "1.5.0",
            "box_style": "",
            "layout": "IPY_MODEL_d3ba49b0f383449389e72f92b169b874",
            "_model_module": "@jupyter-widgets/controls",
            "children": [
              "IPY_MODEL_546e09143b814409a104c5a5960cd5ef",
              "IPY_MODEL_89c924c696f9414b983f45669e8edebf",
              "IPY_MODEL_1e12453faa55408ab5d7dee83625b978",
              "IPY_MODEL_32a90bbc259245649c5ef0095e7ee47d"
            ]
          }
        },
        "d3ba49b0f383449389e72f92b169b874": {
          "model_module": "@jupyter-widgets/base",
          "model_name": "LayoutModel",
          "model_module_version": "1.2.0",
          "state": {
            "_view_name": "LayoutView",
            "grid_template_rows": null,
            "right": null,
            "justify_content": null,
            "_view_module": "@jupyter-widgets/base",
            "overflow": null,
            "_model_module_version": "1.2.0",
            "_view_count": null,
            "flex_flow": null,
            "width": null,
            "min_width": null,
            "border": null,
            "align_items": null,
            "bottom": null,
            "_model_module": "@jupyter-widgets/base",
            "top": null,
            "grid_column": null,
            "overflow_y": null,
            "overflow_x": null,
            "grid_auto_flow": null,
            "grid_area": null,
            "grid_template_columns": null,
            "flex": null,
            "_model_name": "LayoutModel",
            "justify_items": null,
            "grid_row": null,
            "max_height": null,
            "align_content": null,
            "visibility": null,
            "align_self": null,
            "height": null,
            "min_height": null,
            "padding": null,
            "grid_auto_rows": null,
            "grid_gap": null,
            "max_width": null,
            "order": null,
            "_view_module_version": "1.2.0",
            "grid_template_areas": null,
            "object_position": null,
            "object_fit": null,
            "grid_auto_columns": null,
            "margin": null,
            "display": null,
            "left": null
          }
        }
      }
    }
  },
  "cells": [
    {
      "cell_type": "code",
      "metadata": {
        "id": "P-SeBWDNCLaW"
      },
      "source": [
        "from ipywidgets import interact, interact_manual, widgets, Label\n",
        "import numpy as np\n",
        "import functools\n",
        "from time import time, sleep\n",
        "import matplotlib.pyplot as plt\n",
        "from scipy.special import comb"
      ],
      "execution_count": 1,
      "outputs": []
    },
    {
      "cell_type": "code",
      "metadata": {
        "id": "x5nFecaX0jgR"
      },
      "source": [
        "test_size_max=1024\n",
        "nb_p=100\n",
        "v_p=0.5*np.arange(1,nb_p+1,dtype=np.float64)/(nb_p+1)\n",
        "m_p_binomial=np.zeros((nb_p,test_size_max+1,test_size_max+1),dtype=np.float64)\n",
        "a=np.broadcast_to(np.arange(test_size_max+1),(test_size_max+1,test_size_max+1))\n",
        "b=comb(a,a.T)"
      ],
      "execution_count": 2,
      "outputs": []
    },
    {
      "cell_type": "code",
      "metadata": {
        "id": "QNmuhns70y7s"
      },
      "source": [
        "for i_p in range(nb_p):\n",
        "  p=v_p[i_p]\n",
        "  for n in range(test_size_max+1):\n",
        "    m_p_binomial[i_p,n,:n+1]=b[:n+1,n]*(p**np.arange(n+1))*((1-p)**(n-np.arange(n+1)))\n"
      ],
      "execution_count": 3,
      "outputs": []
    },
    {
      "cell_type": "code",
      "metadata": {
        "id": "fLeeV-_P771c",
        "colab": {
          "base_uri": "https://localhost:8080/",
          "height": 430,
          "referenced_widgets": [
            "406179d2701144a1bcc730f200d633a2",
            "a37266524fb044568899ea7758cc1f15",
            "546e09143b814409a104c5a5960cd5ef",
            "89c924c696f9414b983f45669e8edebf",
            "1e12453faa55408ab5d7dee83625b978",
            "32a90bbc259245649c5ef0095e7ee47d",
            "78b7aa6d637a4e738878262f3a23d693",
            "3d44c19fd5b748fd9ad081c5f39369cd",
            "d48497bdf477497785ff317b33232087",
            "6d267d0f426044cb8dd2bedcd08f1e48",
            "7bcbc973a274430da26eb948463595ec",
            "aae54ee2070f4b38aa4a61deba33f472",
            "bebc100f005443999fb4c46b43bfca71",
            "67ad6647bf4d49a998274f69860b2312",
            "d3ba49b0f383449389e72f92b169b874"
          ]
        },
        "outputId": "556e900a-28d4-4dc7-a18c-7691bd59ae8a"
      },
      "source": [
        "v_h=-1*(np.log2(v_p)*(v_p)+np.log2(1-v_p)*(1-v_p))\n",
        "myfont_dict = {'family': 'serif','color':  'darkblue','weight': 'normal','size': 16}\n",
        "def paramt1(entropy_in,test_size,v_Th):\n",
        "  Th_low=int(v_Th[0])\n",
        "  Th_high=int(v_Th[1])\n",
        "  closest_index=abs(v_h-entropy_in).argmin()\n",
        "  v_proba_error=m_p_binomial[:,test_size,:Th_low].sum(1)+m_p_binomial[:,test_size,Th_high:].sum(1)\n",
        "  if Th_low>=Th_high:\n",
        "    v_proba_error[:]=1.0\n",
        "  v_percent_error=v_proba_error*100\n",
        "  plt.figure(1,figsize=[10,5])\n",
        "  plt.plot(v_h[closest_index],v_percent_error[closest_index],'rx')\n",
        "  plt.plot([v_h[closest_index],v_h[closest_index]],[0,v_percent_error[closest_index]],'r')\n",
        "  plt.plot([0,v_h[closest_index]],[v_percent_error[closest_index],v_percent_error[closest_index]],'r')\n",
        "  plt.plot(v_h,v_percent_error)\n",
        "  plt.text(0.05,50,'%s%.2f'%(\"Alarm {:.0f}% of the time if entropy =\".format(v_percent_error[closest_index]),v_h[closest_index]), fontdict=myfont_dict)\n",
        "  plt.xlabel('Entropy')\n",
        "  plt.ylabel('Percentage of alarm')\n",
        "  plt.ylim([0,105])\n",
        "  plt.xlim([0,1])\n",
        "  plt.show()\n",
        "im=interact(paramt1,entropy_in=widgets.FloatSlider(value=0.5,min=0,max=1),test_size=widgets.IntSlider(value=512,min=0,max=1024),v_Th = widgets.IntRangeSlider(value = [int(512/2-50),int(512/2+50)], min = 0, max = 1024, step = 1 ))\n",
        "im.widget.close()\n",
        "im.widget.children[0].description='Entr. Target'\n",
        "im.widget.children[1].description='Latency'\n",
        "im.widget.children[2].description='Thresh.'\n",
        "\n",
        "im.widget.children[0].layout=widgets.Layout(width='650px')\n",
        "im.widget.children[1].layout=widgets.Layout(width='415px')\n",
        "im.widget.children[2].layout=widgets.Layout(width='650px')\n",
        "v_box_top=widgets.VBox([im.widget.children[0],im.widget.children[1],im.widget.children[2],im.widget.children[3]])\n",
        "\n",
        "display(v_box_top)"
      ],
      "execution_count": 48,
      "outputs": [
        {
          "output_type": "display_data",
          "data": {
            "application/vnd.jupyter.widget-view+json": {
              "model_id": "406179d2701144a1bcc730f200d633a2",
              "version_minor": 0,
              "version_major": 2
            },
            "text/plain": [
              "interactive(children=(FloatSlider(value=0.5, description='entropy_in', max=1.0), IntSlider(value=512, descript…"
            ]
          },
          "metadata": {}
        },
        {
          "output_type": "display_data",
          "data": {
            "application/vnd.jupyter.widget-view+json": {
              "model_id": "67ad6647bf4d49a998274f69860b2312",
              "version_minor": 0,
              "version_major": 2
            },
            "text/plain": [
              "VBox(children=(FloatSlider(value=0.5, description='Entr. Target', layout=Layout(width='650px'), max=1.0), IntS…"
            ]
          },
          "metadata": {}
        }
      ]
    },
    {
      "cell_type": "code",
      "source": [
        ""
      ],
      "metadata": {
        "id": "LDelZ-tDusGH"
      },
      "execution_count": null,
      "outputs": []
    }
  ]
}